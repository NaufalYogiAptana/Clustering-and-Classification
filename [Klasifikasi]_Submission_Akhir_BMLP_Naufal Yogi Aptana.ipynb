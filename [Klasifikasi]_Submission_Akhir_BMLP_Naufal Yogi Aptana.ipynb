{
  "cells": [
    {
      "cell_type": "markdown",
      "metadata": {
        "id": "fKADPWcFKlj3"
      },
      "source": [
        "# **1. Import Library**"
      ]
    },
    {
      "cell_type": "markdown",
      "metadata": {
        "id": "LgA3ERnVn84N"
      },
      "source": [
        "Pada tahap ini, Anda perlu mengimpor beberapa pustaka (library) Python yang dibutuhkan untuk analisis data dan pembangunan model machine learning."
      ]
    },
    {
      "cell_type": "code",
      "execution_count": 18,
      "metadata": {
        "id": "BlmvjLY9M4Yj"
      },
      "outputs": [],
      "source": [
        "import pandas as pd\n",
        "from sklearn.preprocessing import LabelEncoder\n",
        "from sklearn.model_selection import train_test_split\n",
        "from sklearn.linear_model import LogisticRegression\n",
        "from sklearn.tree import DecisionTreeClassifier\n",
        "from sklearn.ensemble import RandomForestClassifier\n",
        "from sklearn.neighbors import KNeighborsClassifier\n",
        "from sklearn.metrics import accuracy_score\n",
        "from sklearn.metrics import classification_report\n",
        "from sklearn.model_selection import GridSearchCV"
      ]
    },
    {
      "cell_type": "markdown",
      "metadata": {
        "id": "f3YIEnAFKrKL"
      },
      "source": [
        "# **2. Memuat Dataset dari Hasil Clustering**"
      ]
    },
    {
      "cell_type": "markdown",
      "metadata": {
        "id": "Ey3ItwTen_7E"
      },
      "source": [
        "Memuat dataset hasil clustering dari file CSV ke dalam variabel DataFrame."
      ]
    },
    {
      "cell_type": "code",
      "execution_count": 19,
      "metadata": {
        "id": "GHCGNTyrM5fS"
      },
      "outputs": [
        {
          "data": {
            "text/html": [
              "<div>\n",
              "<style scoped>\n",
              "    .dataframe tbody tr th:only-of-type {\n",
              "        vertical-align: middle;\n",
              "    }\n",
              "\n",
              "    .dataframe tbody tr th {\n",
              "        vertical-align: top;\n",
              "    }\n",
              "\n",
              "    .dataframe thead th {\n",
              "        text-align: right;\n",
              "    }\n",
              "</style>\n",
              "<table border=\"1\" class=\"dataframe\">\n",
              "  <thead>\n",
              "    <tr style=\"text-align: right;\">\n",
              "      <th></th>\n",
              "      <th>TransactionAmount</th>\n",
              "      <th>AgeGroup</th>\n",
              "      <th>CustomerOccupation</th>\n",
              "      <th>TransactionDuration</th>\n",
              "      <th>AccountBalance</th>\n",
              "      <th>Cluster</th>\n",
              "    </tr>\n",
              "  </thead>\n",
              "  <tbody>\n",
              "    <tr>\n",
              "      <th>0</th>\n",
              "      <td>14.09</td>\n",
              "      <td>61-80</td>\n",
              "      <td>Doctor</td>\n",
              "      <td>81</td>\n",
              "      <td>5112.21</td>\n",
              "      <td>2</td>\n",
              "    </tr>\n",
              "    <tr>\n",
              "      <th>1</th>\n",
              "      <td>376.24</td>\n",
              "      <td>61-80</td>\n",
              "      <td>Doctor</td>\n",
              "      <td>141</td>\n",
              "      <td>13758.91</td>\n",
              "      <td>0</td>\n",
              "    </tr>\n",
              "    <tr>\n",
              "      <th>2</th>\n",
              "      <td>126.29</td>\n",
              "      <td>18-40</td>\n",
              "      <td>Student</td>\n",
              "      <td>56</td>\n",
              "      <td>1122.35</td>\n",
              "      <td>1</td>\n",
              "    </tr>\n",
              "    <tr>\n",
              "      <th>3</th>\n",
              "      <td>184.50</td>\n",
              "      <td>18-40</td>\n",
              "      <td>Student</td>\n",
              "      <td>25</td>\n",
              "      <td>8569.06</td>\n",
              "      <td>1</td>\n",
              "    </tr>\n",
              "    <tr>\n",
              "      <th>4</th>\n",
              "      <td>13.45</td>\n",
              "      <td>18-40</td>\n",
              "      <td>Student</td>\n",
              "      <td>198</td>\n",
              "      <td>7429.40</td>\n",
              "      <td>1</td>\n",
              "    </tr>\n",
              "    <tr>\n",
              "      <th>...</th>\n",
              "      <td>...</td>\n",
              "      <td>...</td>\n",
              "      <td>...</td>\n",
              "      <td>...</td>\n",
              "      <td>...</td>\n",
              "      <td>...</td>\n",
              "    </tr>\n",
              "    <tr>\n",
              "      <th>2507</th>\n",
              "      <td>856.21</td>\n",
              "      <td>18-40</td>\n",
              "      <td>Doctor</td>\n",
              "      <td>109</td>\n",
              "      <td>12690.79</td>\n",
              "      <td>0</td>\n",
              "    </tr>\n",
              "    <tr>\n",
              "      <th>2508</th>\n",
              "      <td>251.54</td>\n",
              "      <td>41-60</td>\n",
              "      <td>Doctor</td>\n",
              "      <td>177</td>\n",
              "      <td>254.75</td>\n",
              "      <td>2</td>\n",
              "    </tr>\n",
              "    <tr>\n",
              "      <th>2509</th>\n",
              "      <td>28.63</td>\n",
              "      <td>41-60</td>\n",
              "      <td>Retired</td>\n",
              "      <td>146</td>\n",
              "      <td>3382.91</td>\n",
              "      <td>2</td>\n",
              "    </tr>\n",
              "    <tr>\n",
              "      <th>2510</th>\n",
              "      <td>185.97</td>\n",
              "      <td>18-40</td>\n",
              "      <td>Student</td>\n",
              "      <td>19</td>\n",
              "      <td>1776.91</td>\n",
              "      <td>1</td>\n",
              "    </tr>\n",
              "    <tr>\n",
              "      <th>2511</th>\n",
              "      <td>243.08</td>\n",
              "      <td>18-40</td>\n",
              "      <td>Student</td>\n",
              "      <td>93</td>\n",
              "      <td>131.25</td>\n",
              "      <td>1</td>\n",
              "    </tr>\n",
              "  </tbody>\n",
              "</table>\n",
              "<p>2512 rows × 6 columns</p>\n",
              "</div>"
            ],
            "text/plain": [
              "      TransactionAmount AgeGroup CustomerOccupation  TransactionDuration  \\\n",
              "0                 14.09    61-80             Doctor                   81   \n",
              "1                376.24    61-80             Doctor                  141   \n",
              "2                126.29    18-40            Student                   56   \n",
              "3                184.50    18-40            Student                   25   \n",
              "4                 13.45    18-40            Student                  198   \n",
              "...                 ...      ...                ...                  ...   \n",
              "2507             856.21    18-40             Doctor                  109   \n",
              "2508             251.54    41-60             Doctor                  177   \n",
              "2509              28.63    41-60            Retired                  146   \n",
              "2510             185.97    18-40            Student                   19   \n",
              "2511             243.08    18-40            Student                   93   \n",
              "\n",
              "      AccountBalance  Cluster  \n",
              "0            5112.21        2  \n",
              "1           13758.91        0  \n",
              "2            1122.35        1  \n",
              "3            8569.06        1  \n",
              "4            7429.40        1  \n",
              "...              ...      ...  \n",
              "2507        12690.79        0  \n",
              "2508          254.75        2  \n",
              "2509         3382.91        2  \n",
              "2510         1776.91        1  \n",
              "2511          131.25        1  \n",
              "\n",
              "[2512 rows x 6 columns]"
            ]
          },
          "execution_count": 19,
          "metadata": {},
          "output_type": "execute_result"
        }
      ],
      "source": [
        "df = pd.read_csv('Dataset_inisiasi.csv')\n",
        "df"
      ]
    },
    {
      "cell_type": "code",
      "execution_count": 20,
      "metadata": {},
      "outputs": [
        {
          "data": {
            "text/html": [
              "<div>\n",
              "<style scoped>\n",
              "    .dataframe tbody tr th:only-of-type {\n",
              "        vertical-align: middle;\n",
              "    }\n",
              "\n",
              "    .dataframe tbody tr th {\n",
              "        vertical-align: top;\n",
              "    }\n",
              "\n",
              "    .dataframe thead th {\n",
              "        text-align: right;\n",
              "    }\n",
              "</style>\n",
              "<table border=\"1\" class=\"dataframe\">\n",
              "  <thead>\n",
              "    <tr style=\"text-align: right;\">\n",
              "      <th></th>\n",
              "      <th>TransactionAmount</th>\n",
              "      <th>AgeGroup</th>\n",
              "      <th>CustomerOccupation</th>\n",
              "      <th>TransactionDuration</th>\n",
              "      <th>AccountBalance</th>\n",
              "      <th>Cluster</th>\n",
              "    </tr>\n",
              "  </thead>\n",
              "  <tbody>\n",
              "    <tr>\n",
              "      <th>0</th>\n",
              "      <td>14.09</td>\n",
              "      <td>2</td>\n",
              "      <td>0</td>\n",
              "      <td>81</td>\n",
              "      <td>5112.21</td>\n",
              "      <td>2</td>\n",
              "    </tr>\n",
              "    <tr>\n",
              "      <th>1</th>\n",
              "      <td>376.24</td>\n",
              "      <td>2</td>\n",
              "      <td>0</td>\n",
              "      <td>141</td>\n",
              "      <td>13758.91</td>\n",
              "      <td>0</td>\n",
              "    </tr>\n",
              "    <tr>\n",
              "      <th>2</th>\n",
              "      <td>126.29</td>\n",
              "      <td>0</td>\n",
              "      <td>3</td>\n",
              "      <td>56</td>\n",
              "      <td>1122.35</td>\n",
              "      <td>1</td>\n",
              "    </tr>\n",
              "    <tr>\n",
              "      <th>3</th>\n",
              "      <td>184.50</td>\n",
              "      <td>0</td>\n",
              "      <td>3</td>\n",
              "      <td>25</td>\n",
              "      <td>8569.06</td>\n",
              "      <td>1</td>\n",
              "    </tr>\n",
              "    <tr>\n",
              "      <th>4</th>\n",
              "      <td>13.45</td>\n",
              "      <td>0</td>\n",
              "      <td>3</td>\n",
              "      <td>198</td>\n",
              "      <td>7429.40</td>\n",
              "      <td>1</td>\n",
              "    </tr>\n",
              "    <tr>\n",
              "      <th>...</th>\n",
              "      <td>...</td>\n",
              "      <td>...</td>\n",
              "      <td>...</td>\n",
              "      <td>...</td>\n",
              "      <td>...</td>\n",
              "      <td>...</td>\n",
              "    </tr>\n",
              "    <tr>\n",
              "      <th>2507</th>\n",
              "      <td>856.21</td>\n",
              "      <td>0</td>\n",
              "      <td>0</td>\n",
              "      <td>109</td>\n",
              "      <td>12690.79</td>\n",
              "      <td>0</td>\n",
              "    </tr>\n",
              "    <tr>\n",
              "      <th>2508</th>\n",
              "      <td>251.54</td>\n",
              "      <td>1</td>\n",
              "      <td>0</td>\n",
              "      <td>177</td>\n",
              "      <td>254.75</td>\n",
              "      <td>2</td>\n",
              "    </tr>\n",
              "    <tr>\n",
              "      <th>2509</th>\n",
              "      <td>28.63</td>\n",
              "      <td>1</td>\n",
              "      <td>2</td>\n",
              "      <td>146</td>\n",
              "      <td>3382.91</td>\n",
              "      <td>2</td>\n",
              "    </tr>\n",
              "    <tr>\n",
              "      <th>2510</th>\n",
              "      <td>185.97</td>\n",
              "      <td>0</td>\n",
              "      <td>3</td>\n",
              "      <td>19</td>\n",
              "      <td>1776.91</td>\n",
              "      <td>1</td>\n",
              "    </tr>\n",
              "    <tr>\n",
              "      <th>2511</th>\n",
              "      <td>243.08</td>\n",
              "      <td>0</td>\n",
              "      <td>3</td>\n",
              "      <td>93</td>\n",
              "      <td>131.25</td>\n",
              "      <td>1</td>\n",
              "    </tr>\n",
              "  </tbody>\n",
              "</table>\n",
              "<p>2512 rows × 6 columns</p>\n",
              "</div>"
            ],
            "text/plain": [
              "      TransactionAmount  AgeGroup  CustomerOccupation  TransactionDuration  \\\n",
              "0                 14.09         2                   0                   81   \n",
              "1                376.24         2                   0                  141   \n",
              "2                126.29         0                   3                   56   \n",
              "3                184.50         0                   3                   25   \n",
              "4                 13.45         0                   3                  198   \n",
              "...                 ...       ...                 ...                  ...   \n",
              "2507             856.21         0                   0                  109   \n",
              "2508             251.54         1                   0                  177   \n",
              "2509              28.63         1                   2                  146   \n",
              "2510             185.97         0                   3                   19   \n",
              "2511             243.08         0                   3                   93   \n",
              "\n",
              "      AccountBalance  Cluster  \n",
              "0            5112.21        2  \n",
              "1           13758.91        0  \n",
              "2            1122.35        1  \n",
              "3            8569.06        1  \n",
              "4            7429.40        1  \n",
              "...              ...      ...  \n",
              "2507        12690.79        0  \n",
              "2508          254.75        2  \n",
              "2509         3382.91        2  \n",
              "2510         1776.91        1  \n",
              "2511          131.25        1  \n",
              "\n",
              "[2512 rows x 6 columns]"
            ]
          },
          "execution_count": 20,
          "metadata": {},
          "output_type": "execute_result"
        }
      ],
      "source": [
        "label_encoder = LabelEncoder()\n",
        "\n",
        "categorical_columns = df.select_dtypes(include=['object']).columns\n",
        "\n",
        "for col in categorical_columns:\n",
        "    df[col] = label_encoder.fit_transform(df[col])\n",
        "\n",
        "df"
      ]
    },
    {
      "cell_type": "markdown",
      "metadata": {
        "id": "KkPem5eWL2UP"
      },
      "source": [
        "# **3. Data Splitting**"
      ]
    },
    {
      "cell_type": "markdown",
      "metadata": {
        "id": "YYj1rl_JNI9Y"
      },
      "source": [
        "Tahap Data Splitting bertujuan untuk memisahkan dataset menjadi dua bagian: data latih (training set) dan data uji (test set)."
      ]
    },
    {
      "cell_type": "code",
      "execution_count": 21,
      "metadata": {
        "id": "OubAW-7ONKVj"
      },
      "outputs": [
        {
          "name": "stdout",
          "output_type": "stream",
          "text": [
            "Jumlah data latih: 2009\n",
            "Jumlah data uji: 503\n"
          ]
        }
      ],
      "source": [
        "# Pisahkan fitur (X) dan target (y)\n",
        "X = df.drop('Cluster', axis=1)\n",
        "y = df['Cluster']\n",
        "\n",
        "X_train, X_test, y_train, y_test = train_test_split(X, y, test_size=0.2, random_state=42)\n",
        "\n",
        "print(f\"Jumlah data latih: {X_train.shape[0]}\")\n",
        "print(f\"Jumlah data uji: {X_test.shape[0]}\")"
      ]
    },
    {
      "cell_type": "markdown",
      "metadata": {
        "id": "IVPbB03CMhTT"
      },
      "source": [
        "# **4. Membangun Model Klasifikasi**\n"
      ]
    },
    {
      "cell_type": "markdown",
      "metadata": {
        "id": "Ned1pL9zMmBK"
      },
      "source": [
        "## **a. Membangun Model Klasifikasi**"
      ]
    },
    {
      "cell_type": "markdown",
      "metadata": {
        "id": "WAWzPOE4Nkti"
      },
      "source": [
        "Setelah memilih algoritma klasifikasi yang sesuai, langkah selanjutnya adalah melatih model menggunakan data latih.\n",
        "\n",
        "Berikut adalah rekomendasi tahapannya.\n",
        "1. Pilih algoritma klasifikasi yang sesuai, seperti Logistic Regression, Decision Tree, Random Forest, atau K-Nearest Neighbors (KNN).\n",
        "2. Latih model menggunakan data latih."
      ]
    },
    {
      "cell_type": "code",
      "execution_count": 22,
      "metadata": {},
      "outputs": [
        {
          "name": "stderr",
          "output_type": "stream",
          "text": [
            "c:\\Users\\naufa\\AppData\\Local\\Programs\\Python\\Python312\\Lib\\site-packages\\sklearn\\linear_model\\_logistic.py:469: ConvergenceWarning: lbfgs failed to converge (status=1):\n",
            "STOP: TOTAL NO. of ITERATIONS REACHED LIMIT.\n",
            "\n",
            "Increase the number of iterations (max_iter) or scale the data as shown in:\n",
            "    https://scikit-learn.org/stable/modules/preprocessing.html\n",
            "Please also refer to the documentation for alternative solver options:\n",
            "    https://scikit-learn.org/stable/modules/linear_model.html#logistic-regression\n",
            "  n_iter_i = _check_optimize_result(\n"
          ]
        }
      ],
      "source": [
        "# Membuat model klasifikasi\n",
        "lr = LogisticRegression(random_state=42 ,max_iter=1000).fit(X_train, y_train)\n",
        "dt = DecisionTreeClassifier(random_state=42).fit(X_train, y_train)\n",
        "rf = RandomForestClassifier(random_state=42).fit(X_train, y_train)\n",
        "knn = KNeighborsClassifier().fit(X_train, y_train)"
      ]
    },
    {
      "cell_type": "markdown",
      "metadata": {
        "id": "ergzChZFEL-O"
      },
      "source": [
        "## **b. Evaluasi Model Klasifikasi**"
      ]
    },
    {
      "cell_type": "markdown",
      "metadata": {
        "id": "zOm68u-7NpLT"
      },
      "source": [
        "Berikut adalah **rekomendasi** tahapannya.\n",
        "1. Lakukan prediksi menggunakan data uji.\n",
        "2. Hitung metrik evaluasi seperti Accuracy dan F1-Score (Opsional: Precision dan Recall).\n",
        "3. Buat confusion matrix untuk melihat detail prediksi benar dan salah."
      ]
    },
    {
      "cell_type": "code",
      "execution_count": 23,
      "metadata": {
        "id": "tMq4QAssNLip"
      },
      "outputs": [
        {
          "name": "stdout",
          "output_type": "stream",
          "text": [
            "Akurasi Model: 0.9960238568588469\n",
            "Laporan Klasifikasi:\n",
            "              precision    recall  f1-score   support\n",
            "\n",
            "           0       0.99      1.00      0.99       168\n",
            "           1       1.00      1.00      1.00       142\n",
            "           2       1.00      0.99      0.99       193\n",
            "\n",
            "    accuracy                           1.00       503\n",
            "   macro avg       1.00      1.00      1.00       503\n",
            "weighted avg       1.00      1.00      1.00       503\n",
            "\n"
          ]
        }
      ],
      "source": [
        "# Evaluasi model Logistic Regression\n",
        "y_pred = lr.predict(X_test)\n",
        "accuracy = accuracy_score(y_test, y_pred)\n",
        "print(f\"Akurasi Model: {accuracy}\")\n",
        "print(\"Laporan Klasifikasi:\")\n",
        "print(classification_report(y_test, y_pred))"
      ]
    },
    {
      "cell_type": "code",
      "execution_count": 24,
      "metadata": {},
      "outputs": [
        {
          "name": "stdout",
          "output_type": "stream",
          "text": [
            "Akurasi Model: 0.9900596421471173\n",
            "Laporan Klasifikasi:\n",
            "              precision    recall  f1-score   support\n",
            "\n",
            "           0       0.98      0.99      0.99       168\n",
            "           1       1.00      0.99      1.00       142\n",
            "           2       0.99      0.99      0.99       193\n",
            "\n",
            "    accuracy                           0.99       503\n",
            "   macro avg       0.99      0.99      0.99       503\n",
            "weighted avg       0.99      0.99      0.99       503\n",
            "\n"
          ]
        }
      ],
      "source": [
        "# Evaluasi model Decision Tree\n",
        "y_pred = dt.predict(X_test)\n",
        "accuracy = accuracy_score(y_test, y_pred)\n",
        "print(f\"Akurasi Model: {accuracy}\")\n",
        "print(\"Laporan Klasifikasi:\")\n",
        "print(classification_report(y_test, y_pred))"
      ]
    },
    {
      "cell_type": "code",
      "execution_count": 25,
      "metadata": {},
      "outputs": [
        {
          "name": "stdout",
          "output_type": "stream",
          "text": [
            "Akurasi Model: 0.9900596421471173\n",
            "Laporan Klasifikasi:\n",
            "              precision    recall  f1-score   support\n",
            "\n",
            "           0       0.98      0.99      0.99       168\n",
            "           1       1.00      0.99      1.00       142\n",
            "           2       0.99      0.98      0.99       193\n",
            "\n",
            "    accuracy                           0.99       503\n",
            "   macro avg       0.99      0.99      0.99       503\n",
            "weighted avg       0.99      0.99      0.99       503\n",
            "\n"
          ]
        }
      ],
      "source": [
        "# Evaluasi model Random Forest\n",
        "y_pred = rf.predict(X_test)\n",
        "accuracy = accuracy_score(y_test, y_pred)\n",
        "print(f\"Akurasi Model: {accuracy}\")\n",
        "print(\"Laporan Klasifikasi:\")\n",
        "print(classification_report(y_test, y_pred))"
      ]
    },
    {
      "cell_type": "code",
      "execution_count": 26,
      "metadata": {},
      "outputs": [
        {
          "name": "stdout",
          "output_type": "stream",
          "text": [
            "Akurasi Model: 0.679920477137177\n",
            "Laporan Klasifikasi:\n",
            "              precision    recall  f1-score   support\n",
            "\n",
            "           0       0.72      0.80      0.76       168\n",
            "           1       0.69      0.71      0.70       142\n",
            "           2       0.63      0.55      0.59       193\n",
            "\n",
            "    accuracy                           0.68       503\n",
            "   macro avg       0.68      0.69      0.68       503\n",
            "weighted avg       0.68      0.68      0.68       503\n",
            "\n"
          ]
        }
      ],
      "source": [
        "# Evaluasi model K-Nearest Neighbors\n",
        "y_pred = knn.predict(X_test)\n",
        "accuracy = accuracy_score(y_test, y_pred)\n",
        "print(f\"Akurasi Model: {accuracy}\")\n",
        "print(\"Laporan Klasifikasi:\")\n",
        "print(classification_report(y_test, y_pred))"
      ]
    },
    {
      "cell_type": "markdown",
      "metadata": {
        "id": "H4_9OwrsXZlz"
      },
      "source": [
        "Analisis Perbandingan Model\n",
        "- Logistic Regression menunjukan akurasi tertinggi dan performa yang hampir sempurna di semua metrik.\n",
        "- Decision Tree dan Random Forest juga memberikan hasil yang sangat baik, dengan sedikit penurunan akurasi dibandingkan dengan Logistic Regression, tetapi masih sangat stabil.\n",
        "- K-Nearest Neighbors (KNN) memiliki performa yang buruk dibandingkan dengan model-model lain. Hal ini mungkin disebabkan oleh kurangnya kemampuan KNN dalam menangani data yang lebih kompleks atau kelas yang tidak seimbang."
      ]
    },
    {
      "cell_type": "markdown",
      "metadata": {
        "id": "ph9yIYDXEPuB"
      },
      "source": [
        "## **c. Tuning Model Klasifikasi (Optional)**"
      ]
    },
    {
      "cell_type": "markdown",
      "metadata": {
        "id": "-Bikx3LINv5e"
      },
      "source": [
        "Gunakan GridSearchCV, RandomizedSearchCV, atau metode lainnya untuk mencari kombinasi hyperparameter terbaik"
      ]
    },
    {
      "cell_type": "code",
      "execution_count": 27,
      "metadata": {
        "id": "winbFzb8NL95"
      },
      "outputs": [],
      "source": [
        "# Definisikan parameter grid untuk tuning Logistic Regression\n",
        "param_grid_lr = {\n",
        "    'C': [0.1, 1, 10],\n",
        "    'solver': ['liblinear', 'saga'],\n",
        "    'max_iter': [100, 200, 300]\n",
        "}"
      ]
    },
    {
      "cell_type": "code",
      "execution_count": 28,
      "metadata": {},
      "outputs": [],
      "source": [
        "# Definisikan parameter grid untuk tuning Decision Tree\n",
        "param_grid_dt = {\n",
        "    'max_depth': [5, 10, 20, None],\n",
        "    'min_samples_split': [2, 5, 10],\n",
        "    'min_samples_leaf': [1, 2, 4]\n",
        "}"
      ]
    },
    {
      "cell_type": "code",
      "execution_count": 29,
      "metadata": {},
      "outputs": [],
      "source": [
        "# Definisikan parameter grid untuk tuning Random Forest\n",
        "param_grid_rf = {\n",
        "    'n_estimators': [50, 100, 200],\n",
        "    'max_depth': [10, 20, None],\n",
        "    'min_samples_split': [2, 5],\n",
        "    'min_samples_leaf': [1, 2]\n",
        "}"
      ]
    },
    {
      "cell_type": "code",
      "execution_count": 30,
      "metadata": {},
      "outputs": [],
      "source": [
        "# Definisikan parameter grid untuk tuning K-Nearest Neighbors\n",
        "param_grid_knn = {\n",
        "    'n_neighbors': [3, 5, 7, 9],\n",
        "    'weights': ['uniform', 'distance'],\n",
        "    'metric': ['euclidean', 'manhattan']\n",
        "}"
      ]
    },
    {
      "cell_type": "markdown",
      "metadata": {
        "id": "hE7pqlEPEYzI"
      },
      "source": [
        "## **d. Evaluasi Model Klasifikasi setelah Tuning (Optional)**"
      ]
    },
    {
      "cell_type": "markdown",
      "metadata": {
        "id": "feaPESoeN0zz"
      },
      "source": [
        "Berikut adalah rekomendasi tahapannya.\n",
        "1. Gunakan model dengan hyperparameter terbaik.\n",
        "2. Hitung ulang metrik evaluasi untuk melihat apakah ada peningkatan performa."
      ]
    },
    {
      "cell_type": "code",
      "execution_count": 31,
      "metadata": {
        "id": "HTXZRvEeNMb1"
      },
      "outputs": [
        {
          "name": "stdout",
          "output_type": "stream",
          "text": [
            "Best parameters for Logistic Regression: {'C': 10, 'max_iter': 100, 'solver': 'liblinear'}\n",
            "Akurasi Model: 0.9781312127236581\n",
            "Laporan Klasifikasi:\n",
            "              precision    recall  f1-score   support\n",
            "\n",
            "           0       0.95      0.99      0.97       168\n",
            "           1       1.00      0.98      0.99       142\n",
            "           2       0.99      0.97      0.98       193\n",
            "\n",
            "    accuracy                           0.98       503\n",
            "   macro avg       0.98      0.98      0.98       503\n",
            "weighted avg       0.98      0.98      0.98       503\n",
            "\n"
          ]
        }
      ],
      "source": [
        "# Logistic Regression Tuning\n",
        "lr = LogisticRegression()\n",
        "grid_search_lr = GridSearchCV(lr, param_grid_lr, cv=5, n_jobs=-1)\n",
        "grid_search_lr.fit(X_train, y_train)\n",
        "print(f\"Best parameters for Logistic Regression: {grid_search_lr.best_params_}\")\n",
        "y_pred_lr = grid_search_lr.best_estimator_.predict(X_test)\n",
        "print(f\"Akurasi Model: {accuracy_score(y_test, y_pred_lr)}\")\n",
        "print(\"Laporan Klasifikasi:\")\n",
        "print(classification_report(y_test, y_pred_lr))"
      ]
    },
    {
      "cell_type": "code",
      "execution_count": 32,
      "metadata": {},
      "outputs": [
        {
          "name": "stdout",
          "output_type": "stream",
          "text": [
            "Best parameters for Decision Tree: {'max_depth': 10, 'min_samples_leaf': 1, 'min_samples_split': 2}\n",
            "Akurasi Model: 0.9920477137176938\n",
            "Laporan Klasifikasi:\n",
            "              precision    recall  f1-score   support\n",
            "\n",
            "           0       0.98      0.99      0.99       168\n",
            "           1       1.00      0.99      1.00       142\n",
            "           2       0.99      0.99      0.99       193\n",
            "\n",
            "    accuracy                           0.99       503\n",
            "   macro avg       0.99      0.99      0.99       503\n",
            "weighted avg       0.99      0.99      0.99       503\n",
            "\n"
          ]
        }
      ],
      "source": [
        "# Decision Tree Tuning\n",
        "dt = DecisionTreeClassifier()\n",
        "grid_search_dt = GridSearchCV(dt, param_grid_dt, cv=5, n_jobs=-1)\n",
        "grid_search_dt.fit(X_train, y_train)\n",
        "print(f\"Best parameters for Decision Tree: {grid_search_dt.best_params_}\")\n",
        "y_pred_dt = grid_search_dt.best_estimator_.predict(X_test)\n",
        "print(f\"Akurasi Model: {accuracy_score(y_test, y_pred_dt)}\")\n",
        "print(\"Laporan Klasifikasi:\")\n",
        "print(classification_report(y_test, y_pred_dt))"
      ]
    },
    {
      "cell_type": "code",
      "execution_count": 16,
      "metadata": {},
      "outputs": [
        {
          "name": "stdout",
          "output_type": "stream",
          "text": [
            "Best parameters for Random Forest: {'max_depth': 20, 'min_samples_leaf': 1, 'min_samples_split': 5, 'n_estimators': 50}\n",
            "Akurasi Model: 0.9900596421471173\n",
            "Laporan Klasifikasi:\n",
            "              precision    recall  f1-score   support\n",
            "\n",
            "           0       0.98      0.99      0.99       168\n",
            "           1       1.00      0.99      1.00       142\n",
            "           2       0.99      0.98      0.99       193\n",
            "\n",
            "    accuracy                           0.99       503\n",
            "   macro avg       0.99      0.99      0.99       503\n",
            "weighted avg       0.99      0.99      0.99       503\n",
            "\n"
          ]
        }
      ],
      "source": [
        "# Random Forest Tuning\n",
        "rf = RandomForestClassifier()\n",
        "grid_search_rf = GridSearchCV(rf, param_grid_rf, cv=5, n_jobs=-1)\n",
        "grid_search_rf.fit(X_train, y_train)\n",
        "print(f\"Best parameters for Random Forest: {grid_search_rf.best_params_}\")\n",
        "y_pred_rf = grid_search_rf.best_estimator_.predict(X_test)\n",
        "print(f\"Akurasi Model: {accuracy_score(y_test, y_pred_rf)}\")\n",
        "print(\"Laporan Klasifikasi:\")\n",
        "print(classification_report(y_test, y_pred_rf))"
      ]
    },
    {
      "cell_type": "code",
      "execution_count": 17,
      "metadata": {},
      "outputs": [
        {
          "name": "stdout",
          "output_type": "stream",
          "text": [
            "Best parameters for KNN: {'metric': 'euclidean', 'n_neighbors': 9, 'weights': 'uniform'}\n",
            "Akurasi Model: 0.6998011928429424\n",
            "Laporan Klasifikasi:\n",
            "              precision    recall  f1-score   support\n",
            "\n",
            "           0       0.71      0.83      0.77       168\n",
            "           1       0.71      0.77      0.74       142\n",
            "           2       0.68      0.53      0.59       193\n",
            "\n",
            "    accuracy                           0.70       503\n",
            "   macro avg       0.70      0.71      0.70       503\n",
            "weighted avg       0.70      0.70      0.69       503\n",
            "\n"
          ]
        }
      ],
      "source": [
        "# K-Nearest Neighbors Tuning\n",
        "knn = KNeighborsClassifier()\n",
        "grid_search_knn = GridSearchCV(knn, param_grid_knn, cv=5, n_jobs=-1)\n",
        "grid_search_knn.fit(X_train, y_train)\n",
        "print(f\"Best parameters for KNN: {grid_search_knn.best_params_}\")\n",
        "y_pred_knn = grid_search_knn.best_estimator_.predict(X_test)\n",
        "print(f\"Akurasi Model: {accuracy_score(y_test, y_pred_knn)}\")\n",
        "print(\"Laporan Klasifikasi:\")\n",
        "print(classification_report(y_test, y_pred_knn))"
      ]
    },
    {
      "cell_type": "markdown",
      "metadata": {
        "id": "ZRsOdm4uEgAW"
      },
      "source": [
        "## **e. Analisis Hasil Evaluasi Model Klasifikasi**"
      ]
    },
    {
      "cell_type": "markdown",
      "metadata": {},
      "source": [
        "1. Logistic Regression\n",
        "- Sebelum Tuning:\n",
        "    - Akurasi: 99.60%\n",
        "    - Precision, Recall, F1-Score: Semua metrik sangat tinggi, terutama untuk kelas 1 dan kelas 2, dengan precision dan recall mendekati 1.00.\n",
        "- Setelah Tuning:\n",
        "    - Akurasi: 97.81%\n",
        "    - Precision, Recall, F1-Score: Penurunan terlihat pada kelas 0, dengan precision dan recall menurun menjadi sekitar 0.95 dan 0.99. Kelas 1 dan 2 tetap menunjukkan hasil yang sangat baik.\n",
        "- Analisis: Setelah tuning, Akurasi Logistic Regression sedikit menurun. Meskipun ada penurunan performa, hasilnya masih cukup tinggi, terutama pada kelas 1 dan kelas 2. Penurunan mungkin disebabkan oleh parameter yang lebih disesuaikan untuk model yang lebih general, sehingga menyebabkan sedikit penurunan pada kelas tertentu (terutama kelas 0)."
      ]
    },
    {
      "cell_type": "markdown",
      "metadata": {},
      "source": [
        "2. Decision Tree\n",
        "- Sebelum Tuning:\n",
        "    - Akurasi: 99.01%\n",
        "    - Precision, Recall, F1-Score: Model menunjukkan performa yang sangat baik di semua kelas, meskipun kelas 2 memiliki sedikit penurunan pada recall (0.99).\n",
        "- Setelah Tuning:\n",
        "    - Akurasi: 99.20%\n",
        "    - Precision, Recall, F1-Score: Tuning memperbaiki performa, terutama di kelas 0 dan 2, dengan nilai precision dan recall yang lebih baik. Kelas 1 tetap menunjukkan hasil yang sangat baik.\n",
        "- Analisis: Tuning Decision Tree meningkatkan akurasi sedikit dan menjaga performa tinggi di semua kelas. Model ini sudah memberikan hasil yang baik tanpa penurunan signifikan, dan tuning lebih lanjut dapat meningkatkan kestabilan model."
      ]
    },
    {
      "cell_type": "markdown",
      "metadata": {},
      "source": [
        "3. Random Forest\n",
        "- Sebelum Tuning:\n",
        "    - Akurasi: 99.01%\n",
        "    - Precision, Recall, F1-Score: Performanya sangat baik di semua kelas, mirip dengan Decision Tree.\n",
        "- Setelah Tuning:\n",
        "    - Akurasi: 99.01% (tidak ada perubahan)\n",
        "    - Precision, Recall, F1-Score: Tidak ada perubahan signifikan dibandingkan dengan model sebelum tuning.\n",
        "- Analisis: Tuning Random Forest tidak menunjukkan peningkatan yang signifikan pada metrik evaluasi, meskipun model sudah memiliki performa yang sangat baik sebelumnya. Hal ini menunjukkan bahwa model ini sudah optimal dengan parameter default yang dipilih."
      ]
    },
    {
      "cell_type": "markdown",
      "metadata": {},
      "source": [
        "4. K-Nearest Neighbors (KNN)\n",
        "- Sebelum Tuning:\n",
        "    - Akurasi: 67.99%\n",
        "    - Precision, Recall, F1-Score: Precision dan recall cukup rendah, terutama untuk kelas 2, dengan f1-score yang lebih rendah di kelas 2.\n",
        "- Setelah Tuning:\n",
        "    - Akurasi: 69.98%\n",
        "    - Precision, Recall, F1-Score: Hasil masih kurang memuaskan, meskipun ada sedikit peningkatan pada kelas 0 dan 1. Kelas 2 tetap menunjukkan performa rendah dengan recall yang hanya 0.53.\n",
        "- Analisis: Tuning KNN sedikit memperbaiki hasil, tetapi akurasi masih jauh lebih rendah dibandingkan dengan model lainnya. KNN tampaknya tidak cukup baik untuk dataset ini, terutama karena model kesulitan dalam menangani kelas 2."
      ]
    },
    {
      "cell_type": "markdown",
      "metadata": {},
      "source": []
    }
  ],
  "metadata": {
    "colab": {
      "provenance": []
    },
    "kernelspec": {
      "display_name": "Python 3",
      "name": "python3"
    },
    "language_info": {
      "codemirror_mode": {
        "name": "ipython",
        "version": 3
      },
      "file_extension": ".py",
      "mimetype": "text/x-python",
      "name": "python",
      "nbconvert_exporter": "python",
      "pygments_lexer": "ipython3",
      "version": "3.12.5"
    }
  },
  "nbformat": 4,
  "nbformat_minor": 0
}
